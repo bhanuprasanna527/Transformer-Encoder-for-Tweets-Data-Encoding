{
 "cells": [
  {
   "cell_type": "markdown",
   "id": "1065f144",
   "metadata": {},
   "source": [
    "# TRANSFORMER ENCODER - PHASE 1"
   ]
  },
  {
   "cell_type": "markdown",
   "id": "b40b76f0",
   "metadata": {},
   "source": [
    "<img src=\"Transformer Encoder.png\">"
   ]
  },
  {
   "cell_type": "markdown",
   "id": "84b93660",
   "metadata": {},
   "source": [
    "## TABLE OF CONTENTS\n",
    "* **Other Information**<br>\n",
    "&emsp;1) [**Websites for Information**](#Go-through-this-websites-for-better-Understanding:)"
   ]
  },
  {
   "cell_type": "markdown",
   "id": "25329755",
   "metadata": {},
   "source": [
    "## MAIN CONTENT TABLE\n",
    "1) &ensp;&ensp;[**IMPORTING LIBRARIES**](#1-IMPORTING-LIBRARIES)<BR>\n",
    "2) &ensp;&ensp;[**GETTING TWITTER DATA**](#2-GETTING-TWITTER-DATA)<BR>\n",
    "3) &ensp;&ensp;[**DATA PREPROCESSING OF TWITTER DATA**](#3-DATA-PREPROCESSING-OF-TWITTER-DATA)<BR>\n",
    "4) &ensp;&ensp;[**CUSTOM DEFINED FUNCTIONS TO CLEAN TWITTER DATA**](#4-CUSTOM-DEFINED-FUNCTIONS-TO-CLEAN-TWITTER-DATA)<BR>\n",
    "&emsp;&emsp;4.1) &ensp;&ensp;[**CLEANING OF TWITTER DATA**](#4.1-CLEANING-OF-TWITTER-DATA)<BR>\n",
    "&emsp;&emsp;4.2) &ensp;&ensp;[**PERFORMING EDA AND MORE DATA CLEANING.....**](#4.2-PERFORMING-EDA-AND-MORE-DATA-CLEANING.....)<BR>\n",
    "5) &ensp;&ensp;[**SPLITTING THE DATA INTO X AND Y**](#5-SPLITTING-THE-DATA-INTO-X-AND-Y)<BR>\n",
    "6) &ensp;&ensp;[**TOKENIZER FUNCTION FOR TWITTER DATA**](#6-TOKENIZER-FUNCTION-FOR-TWITTER-DATA)<BR>\n",
    "7) &ensp;&ensp;[**VOCAB AND EMBEDDING_DIM**](#7-VOCAB-AND-EMBEDDING_DIM)<BR>\n",
    "8) &ensp;&ensp;[***(Optional)*** **FIRST TYPE OF EMBEDDING METHOD USING WORD2VEC MODEL**](#8-FIRST-TYPE-OF-EMBEDDING-METHOD-USING-WORD2VEC-MODEL)<BR>\n",
    "9) &ensp;&ensp;[**TRANSFORMER ENCODING STEPS**](#9-TRANSFORMER-ENCODING-STEPS)<BR>\n",
    "&emsp;&emsp;9.0) &ensp;&ensp;[**TRANSFORMER ENCODER - IMPLEMENTED IN THIS NOTEBOOK**](#9.0-TRANSFORMER-ENCODER---IMPLEMENTED-IN-THIS-NOTEBOOK)<BR>\n",
    "&emsp;&emsp;9.1) &ensp;&ensp;[**FIRST STEP - EMBEDDING THE INPUTS**](#9.1-FIRST-STEP---EMBEDDING-THE-INPUTS)<br>\n",
    "    &emsp;&emsp;9.2) &ensp;&ensp;[**SECOND STEP - POSITIONAL ENCODINGS**](#9.2-SECOND-STEP---POSITIONAL-ENCODINGS)<br>\n",
    "    &emsp;&emsp;9.3) &ensp;&ensp;[**THIRD STEP - MULTI HEAD ATTENTION LAYER**](#9.3-THIRD-STEP---MULTI-HEAD-ATTENTION-LAYER)<br>\n",
    "    &emsp;&emsp;9.4) &ensp;&ensp;[**FOURTH STEP - FEEDFORWARD LAYER**](#9.4-FOURTH-STEP---FEEDFORWARD-LAYER)<BR>\n",
    "    &emsp;&emsp;9.5) &ensp;&ensp;[**FIFTH STEP - ENCODER LAYER**](#9.5-FIFTH-STEP---ENCODER-LAYER)<br>\n",
    "    &emsp;&emsp;9.6) &ensp;&ensp;[**SIXTH STEP - ENCODER TRANSFORMER**](#9.6-SIXTH-STEP---ENCODER-TRANSFORMER)<br>\n",
    "10) &ensp;&ensp;[**CREATING METHOD AND GETTING OUTPUT FROM TRANSFORMER ENCODER**](#10-CREATING-METHOD-AND-GETTING-OUTPUT-FROM-TRANSFORMER-ENCODER)"
   ]
  },
  {
   "cell_type": "markdown",
   "id": "5a824b49",
   "metadata": {},
   "source": [
    "### Go through this websites for better Understanding: \n",
    "**1) [Transformers Encoder - Decoder](https://kikaben.com/transformers-encoder-decoder/)**<br>\n",
    "**2) [History of Transformers](https://neptune.ai/blog/comprehensive-guide-to-transformers#:~:text=The%20Transformer%20architecture%20enables%20models,text%20from%20start%20to%20finish.)**<br>\n",
    "**3) An Amazing Reserach Paper and this is where it Started: [Attention is all you need](https://arxiv.org/abs/1706.03762)**<br>\n",
    "**4) [How to code The Transformer in Pytorch](https://towardsdatascience.com/how-to-code-the-transformer-in-pytorch-24db27c8f9ec#b0ed)**<br>\n",
    "**5) [An Overview Of Encoder Transformers — Part 1](https://medium.com/geekculture/an-overview-of-encoder-transformers-part-1-78524ca5a784)**<br>\n",
    "**6) [An Overview Of Encoder Transformers — Part 2](https://medium.com/geekculture/an-overview-of-encoder-transformers-part-2-3a533620f6af)**"
   ]
  },
  {
   "cell_type": "markdown",
   "id": "e6881583",
   "metadata": {},
   "source": [
    "## 1 IMPORTING LIBRARIES"
   ]
  },
  {
   "cell_type": "code",
   "execution_count": 1,
   "id": "09a6bcda",
   "metadata": {},
   "outputs": [
    {
     "data": {
      "text/plain": [
       "<Figure size 640x480 with 0 Axes>"
      ]
     },
     "metadata": {},
     "output_type": "display_data"
    }
   ],
   "source": [
    "#Libraries for general purpose\n",
    "import pandas as pd\n",
    "import numpy as np\n",
    "import matplotlib.pyplot as plt\n",
    "import seaborn as sns\n",
    "\n",
    "#Text cleaning\n",
    "import re, string\n",
    "import emoji\n",
    "import nltk\n",
    "from nltk.stem import WordNetLemmatizer,PorterStemmer\n",
    "from nltk.corpus import stopwords\n",
    "stop_words = set(stopwords.words('english'))\n",
    "\n",
    "#Data preprocessing\n",
    "from sklearn import preprocessing\n",
    "from sklearn.model_selection import train_test_split\n",
    "from imblearn.over_sampling import RandomOverSampler\n",
    "\n",
    "#Naive Bayes\n",
    "from sklearn.feature_extraction.text import CountVectorizer\n",
    "from sklearn.feature_extraction.text import TfidfTransformer\n",
    "from sklearn.naive_bayes import MultinomialNB\n",
    "\n",
    "\n",
    "#PyTorch LSTM\n",
    "import torch\n",
    "import torch.nn as nn\n",
    "import torch.nn.functional as F\n",
    "from torch.utils.data import TensorDataset, DataLoader, RandomSampler, SequentialSampler\n",
    "\n",
    "#Tokenization for LSTM\n",
    "from collections import Counter\n",
    "from gensim.models import Word2Vec\n",
    "\n",
    "#Transformers library for BERT\n",
    "import transformers\n",
    "from transformers import BertModel\n",
    "from transformers import BertTokenizer\n",
    "# from transformers import AdamW, get_linear_schedule_with_warmup\n",
    "\n",
    "from sklearn.metrics import classification_report, confusion_matrix\n",
    "\n",
    "#Seed for reproducibility\n",
    "import random\n",
    "\n",
    "seed_value=42\n",
    "random.seed(seed_value)\n",
    "np.random.seed(seed_value)\n",
    "torch.manual_seed(seed_value)\n",
    "# torch.cuda.manual_seed_all(seed_value)\n",
    "\n",
    "\n",
    "import time\n",
    "\n",
    "#set style for plots\n",
    "sns.set_style(\"whitegrid\")\n",
    "sns.despine()\n",
    "plt.style.use(\"seaborn-whitegrid\")\n",
    "plt.rc(\"figure\", autolayout=True)\n",
    "plt.rc(\"axes\", labelweight=\"bold\", labelsize=\"large\", titleweight=\"bold\", titlepad=10)"
   ]
  },
  {
   "cell_type": "markdown",
   "id": "0a8e1561",
   "metadata": {},
   "source": [
    "## 2 GETTING TWITTER DATA"
   ]
  },
  {
   "cell_type": "code",
   "execution_count": 2,
   "id": "2a6969d4",
   "metadata": {},
   "outputs": [
    {
     "data": {
      "text/html": [
       "<div><div id=51c09457-75e3-42f7-b929-9a9f3a565850 style=\"display:none; background-color:#9D6CFF; color:white; width:200px; height:30px; padding-left:5px; border-radius:4px; flex-direction:row; justify-content:space-around; align-items:center;\" onmouseover=\"this.style.backgroundColor='#BA9BF8'\" onmouseout=\"this.style.backgroundColor='#9D6CFF'\" onclick=\"window.commands?.execute('create-mitosheet-from-dataframe-output');\">See Full Dataframe in Mito</div> <script> if (window.commands?.hasCommand('create-mitosheet-from-dataframe-output')) document.getElementById('51c09457-75e3-42f7-b929-9a9f3a565850').style.display = 'flex' </script> <table border=\"1\" class=\"dataframe\">\n",
       "  <thead>\n",
       "    <tr style=\"text-align: right;\">\n",
       "      <th></th>\n",
       "      <th>2401</th>\n",
       "      <th>Borderlands</th>\n",
       "      <th>Positive</th>\n",
       "      <th>im getting on borderlands and i will murder you all ,</th>\n",
       "    </tr>\n",
       "  </thead>\n",
       "  <tbody>\n",
       "    <tr>\n",
       "      <th>0</th>\n",
       "      <td>2401</td>\n",
       "      <td>Borderlands</td>\n",
       "      <td>Positive</td>\n",
       "      <td>I am coming to the borders and I will kill you all,</td>\n",
       "    </tr>\n",
       "    <tr>\n",
       "      <th>1</th>\n",
       "      <td>2401</td>\n",
       "      <td>Borderlands</td>\n",
       "      <td>Positive</td>\n",
       "      <td>im getting on borderlands and i will kill you all,</td>\n",
       "    </tr>\n",
       "  </tbody>\n",
       "</table></div>"
      ],
      "text/plain": [
       "   2401  Borderlands  Positive  \\\n",
       "0  2401  Borderlands  Positive   \n",
       "1  2401  Borderlands  Positive   \n",
       "\n",
       "  im getting on borderlands and i will murder you all ,  \n",
       "0  I am coming to the borders and I will kill you...     \n",
       "1  im getting on borderlands and i will kill you ...     "
      ]
     },
     "execution_count": 2,
     "metadata": {},
     "output_type": "execute_result"
    }
   ],
   "source": [
    "df = pd.read_csv(\"/Users/bhanuprasanna/Desktop/PROJECTS AND WORK/PP1 MODEL/1ST STEP MHA/archive/twitter_training.csv\")\n",
    "df.head(2)"
   ]
  },
  {
   "cell_type": "markdown",
   "id": "c187e651",
   "metadata": {},
   "source": [
    "## 3 DATA PREPROCESSING OF TWITTER DATA"
   ]
  },
  {
   "cell_type": "code",
   "execution_count": 3,
   "id": "c7e83b51",
   "metadata": {},
   "outputs": [
    {
     "name": "stdout",
     "output_type": "stream",
     "text": [
      "<class 'pandas.core.frame.DataFrame'>\n",
      "RangeIndex: 74681 entries, 0 to 74680\n",
      "Data columns (total 4 columns):\n",
      " #   Column                                                 Non-Null Count  Dtype \n",
      "---  ------                                                 --------------  ----- \n",
      " 0   2401                                                   74681 non-null  int64 \n",
      " 1   Borderlands                                            74681 non-null  object\n",
      " 2   Positive                                               74681 non-null  object\n",
      " 3   im getting on borderlands and i will murder you all ,  73995 non-null  object\n",
      "dtypes: int64(1), object(3)\n",
      "memory usage: 2.3+ MB\n"
     ]
    }
   ],
   "source": [
    "df.info()"
   ]
  },
  {
   "cell_type": "code",
   "execution_count": 4,
   "id": "38d05689",
   "metadata": {},
   "outputs": [],
   "source": [
    "df = df.rename(columns={'im getting on borderlands and i will murder you all ,' : 'text',\n",
    "                        'Positive' : 'sentiment'})"
   ]
  },
  {
   "cell_type": "code",
   "execution_count": 5,
   "id": "aadd8aa1",
   "metadata": {},
   "outputs": [
    {
     "data": {
      "text/html": [
       "<div><div id=c9cc498f-05cd-47df-ae09-da2ecf046084 style=\"display:none; background-color:#9D6CFF; color:white; width:200px; height:30px; padding-left:5px; border-radius:4px; flex-direction:row; justify-content:space-around; align-items:center;\" onmouseover=\"this.style.backgroundColor='#BA9BF8'\" onmouseout=\"this.style.backgroundColor='#9D6CFF'\" onclick=\"window.commands?.execute('create-mitosheet-from-dataframe-output');\">See Full Dataframe in Mito</div> <script> if (window.commands?.hasCommand('create-mitosheet-from-dataframe-output')) document.getElementById('c9cc498f-05cd-47df-ae09-da2ecf046084').style.display = 'flex' </script> <table border=\"1\" class=\"dataframe\">\n",
       "  <thead>\n",
       "    <tr style=\"text-align: right;\">\n",
       "      <th></th>\n",
       "      <th>2401</th>\n",
       "      <th>Borderlands</th>\n",
       "      <th>sentiment</th>\n",
       "      <th>text</th>\n",
       "    </tr>\n",
       "  </thead>\n",
       "  <tbody>\n",
       "    <tr>\n",
       "      <th>0</th>\n",
       "      <td>2401</td>\n",
       "      <td>Borderlands</td>\n",
       "      <td>Positive</td>\n",
       "      <td>I am coming to the borders and I will kill you all,</td>\n",
       "    </tr>\n",
       "    <tr>\n",
       "      <th>1</th>\n",
       "      <td>2401</td>\n",
       "      <td>Borderlands</td>\n",
       "      <td>Positive</td>\n",
       "      <td>im getting on borderlands and i will kill you all,</td>\n",
       "    </tr>\n",
       "    <tr>\n",
       "      <th>2</th>\n",
       "      <td>2401</td>\n",
       "      <td>Borderlands</td>\n",
       "      <td>Positive</td>\n",
       "      <td>im coming on borderlands and i will murder you all,</td>\n",
       "    </tr>\n",
       "    <tr>\n",
       "      <th>3</th>\n",
       "      <td>2401</td>\n",
       "      <td>Borderlands</td>\n",
       "      <td>Positive</td>\n",
       "      <td>im getting on borderlands 2 and i will murder you me all,</td>\n",
       "    </tr>\n",
       "    <tr>\n",
       "      <th>4</th>\n",
       "      <td>2401</td>\n",
       "      <td>Borderlands</td>\n",
       "      <td>Positive</td>\n",
       "      <td>im getting into borderlands and i can murder you all,</td>\n",
       "    </tr>\n",
       "  </tbody>\n",
       "</table></div>"
      ],
      "text/plain": [
       "   2401  Borderlands sentiment  \\\n",
       "0  2401  Borderlands  Positive   \n",
       "1  2401  Borderlands  Positive   \n",
       "2  2401  Borderlands  Positive   \n",
       "3  2401  Borderlands  Positive   \n",
       "4  2401  Borderlands  Positive   \n",
       "\n",
       "                                                text  \n",
       "0  I am coming to the borders and I will kill you...  \n",
       "1  im getting on borderlands and i will kill you ...  \n",
       "2  im coming on borderlands and i will murder you...  \n",
       "3  im getting on borderlands 2 and i will murder ...  \n",
       "4  im getting into borderlands and i can murder y...  "
      ]
     },
     "execution_count": 5,
     "metadata": {},
     "output_type": "execute_result"
    }
   ],
   "source": [
    "df.head()"
   ]
  },
  {
   "cell_type": "code",
   "execution_count": 6,
   "id": "8bd55f51",
   "metadata": {},
   "outputs": [],
   "source": [
    "df = df.drop(['2401', 'Borderlands'], axis=1)"
   ]
  },
  {
   "cell_type": "code",
   "execution_count": 7,
   "id": "541e01f6",
   "metadata": {},
   "outputs": [
    {
     "data": {
      "text/html": [
       "<div><div id=6a5ad7a6-d50d-4e3b-b9c3-660d037a5ed7 style=\"display:none; background-color:#9D6CFF; color:white; width:200px; height:30px; padding-left:5px; border-radius:4px; flex-direction:row; justify-content:space-around; align-items:center;\" onmouseover=\"this.style.backgroundColor='#BA9BF8'\" onmouseout=\"this.style.backgroundColor='#9D6CFF'\" onclick=\"window.commands?.execute('create-mitosheet-from-dataframe-output');\">See Full Dataframe in Mito</div> <script> if (window.commands?.hasCommand('create-mitosheet-from-dataframe-output')) document.getElementById('6a5ad7a6-d50d-4e3b-b9c3-660d037a5ed7').style.display = 'flex' </script> <table border=\"1\" class=\"dataframe\">\n",
       "  <thead>\n",
       "    <tr style=\"text-align: right;\">\n",
       "      <th></th>\n",
       "      <th>sentiment</th>\n",
       "      <th>text</th>\n",
       "    </tr>\n",
       "  </thead>\n",
       "  <tbody>\n",
       "    <tr>\n",
       "      <th>0</th>\n",
       "      <td>Positive</td>\n",
       "      <td>I am coming to the borders and I will kill you all,</td>\n",
       "    </tr>\n",
       "    <tr>\n",
       "      <th>1</th>\n",
       "      <td>Positive</td>\n",
       "      <td>im getting on borderlands and i will kill you all,</td>\n",
       "    </tr>\n",
       "  </tbody>\n",
       "</table></div>"
      ],
      "text/plain": [
       "  sentiment                                               text\n",
       "0  Positive  I am coming to the borders and I will kill you...\n",
       "1  Positive  im getting on borderlands and i will kill you ..."
      ]
     },
     "execution_count": 7,
     "metadata": {},
     "output_type": "execute_result"
    }
   ],
   "source": [
    "df.head(2)"
   ]
  },
  {
   "cell_type": "code",
   "execution_count": 8,
   "id": "db6c8cdf",
   "metadata": {},
   "outputs": [
    {
     "data": {
      "text/plain": [
       "4909"
      ]
     },
     "execution_count": 8,
     "metadata": {},
     "output_type": "execute_result"
    }
   ],
   "source": [
    "df.duplicated().sum()"
   ]
  },
  {
   "cell_type": "code",
   "execution_count": 9,
   "id": "0ed173ba",
   "metadata": {},
   "outputs": [],
   "source": [
    "df = df[~df.duplicated()]"
   ]
  },
  {
   "cell_type": "code",
   "execution_count": 10,
   "id": "e5851213",
   "metadata": {},
   "outputs": [
    {
     "name": "stdout",
     "output_type": "stream",
     "text": [
      "<class 'pandas.core.frame.DataFrame'>\n",
      "Int64Index: 69772 entries, 0 to 74680\n",
      "Data columns (total 2 columns):\n",
      " #   Column     Non-Null Count  Dtype \n",
      "---  ------     --------------  ----- \n",
      " 0   sentiment  69772 non-null  object\n",
      " 1   text       69768 non-null  object\n",
      "dtypes: object(2)\n",
      "memory usage: 1.6+ MB\n"
     ]
    }
   ],
   "source": [
    "df.info()"
   ]
  },
  {
   "cell_type": "code",
   "execution_count": 11,
   "id": "e126dd38",
   "metadata": {},
   "outputs": [
    {
     "data": {
      "text/plain": [
       "Negative      21238\n",
       "Positive      19138\n",
       "Neutral       17111\n",
       "Irrelevant    12285\n",
       "Name: sentiment, dtype: int64"
      ]
     },
     "execution_count": 11,
     "metadata": {},
     "output_type": "execute_result"
    }
   ],
   "source": [
    "df.sentiment.value_counts()"
   ]
  },
  {
   "cell_type": "markdown",
   "id": "bf8dd764",
   "metadata": {},
   "source": [
    "## 4 CUSTOM DEFINED FUNCTIONS TO CLEAN TWITTER DATA"
   ]
  },
  {
   "cell_type": "code",
   "execution_count": 12,
   "id": "6bfa099f",
   "metadata": {},
   "outputs": [],
   "source": [
    "##CUSTOM DEFINED FUNCTIONS TO CLEAN THE TWEETS\n",
    "\n",
    "#Clean emojis from text\n",
    "def strip_emoji(text):\n",
    "    return str(emoji.demojize(str(text))) #remove emoji\n",
    "\n",
    "#Remove punctuations, links, stopwords, mentions and \\r\\n new line characters\n",
    "def strip_all_entities(text): \n",
    "    text = text.replace('\\r', '').replace('\\n', ' ').lower() #remove \\n and \\r and lowercase\n",
    "    text = re.sub(r\"(?:\\@|https?\\://)\\S+\", \"\", text) #remove links and mentions\n",
    "    text = re.sub(r'[^\\x00-\\x7f]',r'', text) #remove non utf8/ascii characters such as '\\x9a\\x91\\x97\\x9a\\x97'\n",
    "    banned_list= string.punctuation\n",
    "    table = str.maketrans('', '', banned_list)\n",
    "    text = text.translate(table)\n",
    "    text = [word for word in text.split() if word not in stop_words]\n",
    "    text = ' '.join(text)\n",
    "    text =' '.join(word for word in text.split() if len(word) < 14) # remove words longer than 14 characters\n",
    "    return text\n",
    "\n",
    "#remove contractions\n",
    "def decontract(text):\n",
    "    text = re.sub(r\"can\\'t\", \"can not\", text)\n",
    "    text = re.sub(r\"n\\'t\", \" not\", text)\n",
    "    text = re.sub(r\"\\'re\", \" are\", text)\n",
    "    text = re.sub(r\"\\'s\", \" is\", text)\n",
    "    text = re.sub(r\"\\'d\", \" would\", text)\n",
    "    text = re.sub(r\"\\'ll\", \" will\", text)\n",
    "    text = re.sub(r\"\\'t\", \" not\", text)\n",
    "    text = re.sub(r\"\\'ve\", \" have\", text)\n",
    "    text = re.sub(r\"\\'m\", \" am\", text)\n",
    "    return text\n",
    "\n",
    "#clean hashtags at the end of the sentence, and keep those in the middle of the sentence by removing just the \"#\" symbol\n",
    "def clean_hashtags(tweet):\n",
    "    new_tweet = \" \".join(word.strip() for word in re.split('#(?!(?:hashtag)\\b)[\\w-]+(?=(?:\\s+#[\\w-]+)*\\s*$)', tweet)) #remove last hashtags\n",
    "    new_tweet2 = \" \".join(word.strip() for word in re.split('#|_', new_tweet)) #remove hashtags symbol from words in the middle of the sentence\n",
    "    return new_tweet2\n",
    "\n",
    "#Filter special characters such as \"&\" and \"$\" present in some words\n",
    "def filter_chars(a):\n",
    "    sent = []\n",
    "    for word in a.split(' '):\n",
    "        if ('$' in word) | ('&' in word):\n",
    "            sent.append('')\n",
    "        else:\n",
    "            sent.append(word)\n",
    "    return ' '.join(sent)\n",
    "\n",
    "#Remove multiple sequential spaces\n",
    "def remove_mult_spaces(text):\n",
    "    return re.sub(\"\\s\\s+\" , \" \", text)\n",
    "\n",
    "#Stemming\n",
    "def stemmer(text):\n",
    "    tokenized = nltk.word_tokenize(text)\n",
    "    ps = PorterStemmer()\n",
    "    return ' '.join([ps.stem(words) for words in tokenized])\n",
    "\n",
    "#Lemmatization \n",
    "#NOTE:Stemming seems to work better for this dataset\n",
    "def lemmatize(text):\n",
    "    tokenized = nltk.word_tokenize(text)\n",
    "    lm = WordNetLemmatizer()\n",
    "    return ' '.join([lm.lemmatize(words) for words in tokenized])\n",
    "\n",
    "#Then we apply all the defined functions in the following order\n",
    "def deep_clean(text):\n",
    "    text = strip_emoji(text)\n",
    "    text = decontract(text)\n",
    "    text = strip_all_entities(text)\n",
    "    text = clean_hashtags(text)\n",
    "    text = filter_chars(text)\n",
    "    text = remove_mult_spaces(text)\n",
    "    text = stemmer(text)\n",
    "    return text"
   ]
  },
  {
   "cell_type": "markdown",
   "id": "2a5ddef4",
   "metadata": {},
   "source": [
    "### 4.1 CLEANING OF TWITTER DATA"
   ]
  },
  {
   "cell_type": "code",
   "execution_count": 13,
   "id": "29cc1a12",
   "metadata": {},
   "outputs": [],
   "source": [
    "texts_new = []\n",
    "for t in df.text:\n",
    "    texts_new.append(deep_clean(t))"
   ]
  },
  {
   "cell_type": "code",
   "execution_count": 14,
   "id": "ab3dd387",
   "metadata": {},
   "outputs": [
    {
     "data": {
      "text/plain": [
       "69772"
      ]
     },
     "execution_count": 14,
     "metadata": {},
     "output_type": "execute_result"
    }
   ],
   "source": [
    "len(texts_new)"
   ]
  },
  {
   "cell_type": "code",
   "execution_count": 15,
   "id": "56ac3eaa",
   "metadata": {},
   "outputs": [],
   "source": [
    "df['text_clean'] = texts_new"
   ]
  },
  {
   "cell_type": "code",
   "execution_count": 16,
   "id": "dbcbae0e",
   "metadata": {},
   "outputs": [
    {
     "data": {
      "text/html": [
       "<div><div id=45d69bbe-8f3d-46a2-8ab5-8b700707eb44 style=\"display:none; background-color:#9D6CFF; color:white; width:200px; height:30px; padding-left:5px; border-radius:4px; flex-direction:row; justify-content:space-around; align-items:center;\" onmouseover=\"this.style.backgroundColor='#BA9BF8'\" onmouseout=\"this.style.backgroundColor='#9D6CFF'\" onclick=\"window.commands?.execute('create-mitosheet-from-dataframe-output');\">See Full Dataframe in Mito</div> <script> if (window.commands?.hasCommand('create-mitosheet-from-dataframe-output')) document.getElementById('45d69bbe-8f3d-46a2-8ab5-8b700707eb44').style.display = 'flex' </script> <table border=\"1\" class=\"dataframe\">\n",
       "  <thead>\n",
       "    <tr style=\"text-align: right;\">\n",
       "      <th></th>\n",
       "      <th>sentiment</th>\n",
       "      <th>text</th>\n",
       "      <th>text_clean</th>\n",
       "    </tr>\n",
       "  </thead>\n",
       "  <tbody>\n",
       "    <tr>\n",
       "      <th>0</th>\n",
       "      <td>Positive</td>\n",
       "      <td>I am coming to the borders and I will kill you all,</td>\n",
       "      <td>come border kill</td>\n",
       "    </tr>\n",
       "    <tr>\n",
       "      <th>1</th>\n",
       "      <td>Positive</td>\n",
       "      <td>im getting on borderlands and i will kill you all,</td>\n",
       "      <td>im get borderland kill</td>\n",
       "    </tr>\n",
       "    <tr>\n",
       "      <th>2</th>\n",
       "      <td>Positive</td>\n",
       "      <td>im coming on borderlands and i will murder you all,</td>\n",
       "      <td>im come borderland murder</td>\n",
       "    </tr>\n",
       "    <tr>\n",
       "      <th>3</th>\n",
       "      <td>Positive</td>\n",
       "      <td>im getting on borderlands 2 and i will murder you me all,</td>\n",
       "      <td>im get borderland 2 murder</td>\n",
       "    </tr>\n",
       "    <tr>\n",
       "      <th>4</th>\n",
       "      <td>Positive</td>\n",
       "      <td>im getting into borderlands and i can murder you all,</td>\n",
       "      <td>im get borderland murder</td>\n",
       "    </tr>\n",
       "  </tbody>\n",
       "</table></div>"
      ],
      "text/plain": [
       "  sentiment                                               text  \\\n",
       "0  Positive  I am coming to the borders and I will kill you...   \n",
       "1  Positive  im getting on borderlands and i will kill you ...   \n",
       "2  Positive  im coming on borderlands and i will murder you...   \n",
       "3  Positive  im getting on borderlands 2 and i will murder ...   \n",
       "4  Positive  im getting into borderlands and i can murder y...   \n",
       "\n",
       "                   text_clean  \n",
       "0            come border kill  \n",
       "1      im get borderland kill  \n",
       "2   im come borderland murder  \n",
       "3  im get borderland 2 murder  \n",
       "4    im get borderland murder  "
      ]
     },
     "execution_count": 16,
     "metadata": {},
     "output_type": "execute_result"
    }
   ],
   "source": [
    "df.head()"
   ]
  },
  {
   "cell_type": "code",
   "execution_count": 17,
   "id": "a1b451d7",
   "metadata": {},
   "outputs": [
    {
     "data": {
      "text/plain": [
       "(69772, 3)"
      ]
     },
     "execution_count": 17,
     "metadata": {},
     "output_type": "execute_result"
    }
   ],
   "source": [
    "df.shape"
   ]
  },
  {
   "cell_type": "code",
   "execution_count": 18,
   "id": "78f66d96",
   "metadata": {},
   "outputs": [
    {
     "data": {
      "text/plain": [
       "7826"
      ]
     },
     "execution_count": 18,
     "metadata": {},
     "output_type": "execute_result"
    }
   ],
   "source": [
    "df[\"text_clean\"].duplicated().sum()"
   ]
  },
  {
   "cell_type": "code",
   "execution_count": 19,
   "id": "6bb9f86b",
   "metadata": {},
   "outputs": [],
   "source": [
    "df.drop_duplicates(\"text_clean\", inplace=True)"
   ]
  },
  {
   "cell_type": "code",
   "execution_count": 20,
   "id": "2549a819",
   "metadata": {},
   "outputs": [
    {
     "data": {
      "text/plain": [
       "(61946, 3)"
      ]
     },
     "execution_count": 20,
     "metadata": {},
     "output_type": "execute_result"
    }
   ],
   "source": [
    "df.shape"
   ]
  },
  {
   "cell_type": "code",
   "execution_count": 21,
   "id": "4461b415",
   "metadata": {},
   "outputs": [
    {
     "data": {
      "text/plain": [
       "Negative      18962\n",
       "Positive      16496\n",
       "Neutral       15550\n",
       "Irrelevant    10938\n",
       "Name: sentiment, dtype: int64"
      ]
     },
     "execution_count": 21,
     "metadata": {},
     "output_type": "execute_result"
    }
   ],
   "source": [
    "df.sentiment.value_counts()"
   ]
  },
  {
   "cell_type": "code",
   "execution_count": 22,
   "id": "d4bbc7bb",
   "metadata": {},
   "outputs": [],
   "source": [
    "sentiments = ['Negative', 'Positive', 'Neutral', 'Irrelevant']"
   ]
  },
  {
   "cell_type": "code",
   "execution_count": 23,
   "id": "55f427ea",
   "metadata": {},
   "outputs": [],
   "source": [
    "text_len = []\n",
    "for text in df.text_clean:\n",
    "    tweet_len = len(text.split())\n",
    "    text_len.append(tweet_len)"
   ]
  },
  {
   "cell_type": "code",
   "execution_count": 24,
   "id": "a9568a03",
   "metadata": {},
   "outputs": [],
   "source": [
    "df['text_len'] = text_len"
   ]
  },
  {
   "cell_type": "markdown",
   "id": "f97be10b",
   "metadata": {},
   "source": [
    "### 4.2 PERFORMING EDA AND MORE DATA CLEANING....."
   ]
  },
  {
   "cell_type": "code",
   "execution_count": 25,
   "id": "83f29519",
   "metadata": {},
   "outputs": [
    {
     "data": {
      "image/png": "[encoded data removed]",
      "text/plain": [
       "<Figure size 700x500 with 1 Axes>"
      ]
     },
     "metadata": {},
     "output_type": "display_data"
    }
   ],
   "source": [
    "plt.figure(figsize=(7,5))\n",
    "ax = sns.countplot(x='text_len', data=df[df['text_len']<10], palette='mako')\n",
    "plt.title('Count of tweets with less than 10 words', fontsize=20)\n",
    "plt.yticks([])\n",
    "ax.bar_label(ax.containers[0])\n",
    "plt.ylabel('count')\n",
    "plt.xlabel('')\n",
    "plt.show()"
   ]
  },
  {
   "cell_type": "code",
   "execution_count": 26,
   "id": "17a06fa3",
   "metadata": {},
   "outputs": [],
   "source": [
    "df = df[df['text_len'] > 3] # We will remove tweets that are too short (less than 4 words)."
   ]
  },
  {
   "cell_type": "code",
   "execution_count": 27,
   "id": "b303a129",
   "metadata": {},
   "outputs": [
    {
     "data": {
      "text/html": [
       "<div><div id=660b7763-14c5-48cf-a295-24713b62689c style=\"display:none; background-color:#9D6CFF; color:white; width:200px; height:30px; padding-left:5px; border-radius:4px; flex-direction:row; justify-content:space-around; align-items:center;\" onmouseover=\"this.style.backgroundColor='#BA9BF8'\" onmouseout=\"this.style.backgroundColor='#9D6CFF'\" onclick=\"window.commands?.execute('create-mitosheet-from-dataframe-output');\">See Full Dataframe in Mito</div> <script> if (window.commands?.hasCommand('create-mitosheet-from-dataframe-output')) document.getElementById('660b7763-14c5-48cf-a295-24713b62689c').style.display = 'flex' </script> <table border=\"1\" class=\"dataframe\">\n",
       "  <thead>\n",
       "    <tr style=\"text-align: right;\">\n",
       "      <th></th>\n",
       "      <th>sentiment</th>\n",
       "      <th>text</th>\n",
       "      <th>text_clean</th>\n",
       "      <th>text_len</th>\n",
       "    </tr>\n",
       "  </thead>\n",
       "  <tbody>\n",
       "    <tr>\n",
       "      <th>8545</th>\n",
       "      <td>Positive</td>\n",
       "      <td>I REALLY HAVE THE OVERWATCH RN GAME. SEA SEA SEA SEA SEA SEA SEA SEA SEA SEA SEA SEA SEA SEA SEA SEA SEA SEA SEA SEE E E E E E E E E E E E E E E E E E E E E E E E E E E E E E E E E E E E E E E E E E E E E E E E E E E E E E E E E E E E E E E E E E E E E E E E E E E E E E E E E E E E E E E E E E E E E E E E E E E E E E E E E E E E E E E E E E E E E E E E E E E E E E E E E E E E E E E E E E E E</td>\n",
       "      <td>realli overwatch rn game sea sea sea sea sea sea sea sea sea sea sea sea sea sea sea sea sea sea sea see e e e e e e e e e e e e e e e e e e e e e e e e e e e e e e e e e e e e e e e e e e e e e e e e e e e e e e e e e e e e e e e e e e e e e e e e e e e e e e e e e e e e e e e e e e e e e e e e e e e e e e e e e e e e e e e e e e e e e e e e e e e e e e e e e e e e e e e e e e e</td>\n",
       "      <td>163</td>\n",
       "    </tr>\n",
       "  </tbody>\n",
       "</table></div>"
      ],
      "text/plain": [
       "     sentiment                                               text  \\\n",
       "8545  Positive  I REALLY HAVE THE OVERWATCH RN GAME. SEA SEA S...   \n",
       "\n",
       "                                             text_clean  text_len  \n",
       "8545  realli overwatch rn game sea sea sea sea sea s...       163  "
      ]
     },
     "execution_count": 27,
     "metadata": {},
     "output_type": "execute_result"
    }
   ],
   "source": [
    "df.sort_values(by=['text_len'], ascending=False).head(1)"
   ]
  },
  {
   "cell_type": "code",
   "execution_count": 28,
   "id": "93d05ca7",
   "metadata": {},
   "outputs": [
    {
     "data": {
      "image/png": "[encoded data removed]",
      "text/plain": [
       "<Figure size 1600x500 with 1 Axes>"
      ]
     },
     "metadata": {},
     "output_type": "display_data"
    }
   ],
   "source": [
    "plt.figure(figsize=(16,5))\n",
    "ax = sns.countplot(x='text_len', data=df[(df['text_len']<=1000) & (df['text_len']>10)], palette='Blues_r')\n",
    "plt.title('Count of tweets with high number of words', fontsize=25)\n",
    "plt.yticks([])\n",
    "ax.bar_label(ax.containers[0])\n",
    "plt.ylabel('count')\n",
    "plt.xlabel('')\n",
    "plt.show()"
   ]
  },
  {
   "cell_type": "code",
   "execution_count": 29,
   "id": "81dcc028",
   "metadata": {},
   "outputs": [],
   "source": [
    "df = df[df['text_len'] < 60] # We also will remove tweets that are too long (with more than 100 words)."
   ]
  },
  {
   "cell_type": "code",
   "execution_count": 30,
   "id": "0453f905",
   "metadata": {},
   "outputs": [
    {
     "data": {
      "text/plain": [
       "52"
      ]
     },
     "execution_count": 30,
     "metadata": {},
     "output_type": "execute_result"
    }
   ],
   "source": [
    "max_len = np.max(df['text_len'])\n",
    "max_len "
   ]
  },
  {
   "cell_type": "code",
   "execution_count": 31,
   "id": "1eb439f5",
   "metadata": {},
   "outputs": [],
   "source": [
    "df['sentiment'] = df['sentiment'].replace({'Negative':0,'Positive':1,'Neutral':2,'Irrelevant':3})"
   ]
  },
  {
   "cell_type": "code",
   "execution_count": 32,
   "id": "2ab8e001",
   "metadata": {},
   "outputs": [
    {
     "data": {
      "text/html": [
       "<div><div id=6d9b729c-3955-46f0-b65e-43e3363d6ba0 style=\"display:none; background-color:#9D6CFF; color:white; width:200px; height:30px; padding-left:5px; border-radius:4px; flex-direction:row; justify-content:space-around; align-items:center;\" onmouseover=\"this.style.backgroundColor='#BA9BF8'\" onmouseout=\"this.style.backgroundColor='#9D6CFF'\" onclick=\"window.commands?.execute('create-mitosheet-from-dataframe-output');\">See Full Dataframe in Mito</div> <script> if (window.commands?.hasCommand('create-mitosheet-from-dataframe-output')) document.getElementById('6d9b729c-3955-46f0-b65e-43e3363d6ba0').style.display = 'flex' </script> <table border=\"1\" class=\"dataframe\">\n",
       "  <thead>\n",
       "    <tr style=\"text-align: right;\">\n",
       "      <th></th>\n",
       "      <th>sentiment</th>\n",
       "      <th>text</th>\n",
       "      <th>text_clean</th>\n",
       "      <th>text_len</th>\n",
       "    </tr>\n",
       "  </thead>\n",
       "  <tbody>\n",
       "    <tr>\n",
       "      <th>1</th>\n",
       "      <td>1</td>\n",
       "      <td>im getting on borderlands and i will kill you all,</td>\n",
       "      <td>im get borderland kill</td>\n",
       "      <td>4</td>\n",
       "    </tr>\n",
       "  </tbody>\n",
       "</table></div>"
      ],
      "text/plain": [
       "   sentiment                                               text  \\\n",
       "1          1  im getting on borderlands and i will kill you ...   \n",
       "\n",
       "               text_clean  text_len  \n",
       "1  im get borderland kill         4  "
      ]
     },
     "execution_count": 32,
     "metadata": {},
     "output_type": "execute_result"
    }
   ],
   "source": [
    "df.head(1)"
   ]
  },
  {
   "cell_type": "markdown",
   "id": "96d27f8f",
   "metadata": {},
   "source": [
    "## 5 SPLITTING THE DATA INTO X AND Y"
   ]
  },
  {
   "cell_type": "code",
   "execution_count": 33,
   "id": "bed4745b",
   "metadata": {},
   "outputs": [],
   "source": [
    "X = df['text_clean']\n",
    "y = df['sentiment']"
   ]
  },
  {
   "cell_type": "markdown",
   "id": "af32fc7e",
   "metadata": {},
   "source": [
    "## 6 TOKENIZER FUNCTION FOR TWITTER DATA"
   ]
  },
  {
   "cell_type": "code",
   "execution_count": 34,
   "id": "c1b0c554",
   "metadata": {},
   "outputs": [],
   "source": [
    "def Tokenize(column, seq_len):\n",
    "    ##Create vocabulary of words from column\n",
    "    corpus = [word for text in column for word in text.split()]\n",
    "    count_words = Counter(corpus)\n",
    "    sorted_words = count_words.most_common()\n",
    "    vocab_to_int = {w:i+1 for i, (w,c) in enumerate(sorted_words)}\n",
    "\n",
    "    ##Tokenize the columns text using the vocabulary\n",
    "    text_int = []\n",
    "    for text in column:\n",
    "        r = [vocab_to_int[word] for word in text.split()]\n",
    "        text_int.append(r)\n",
    "    ##Add padding to tokens\n",
    "    features = np.zeros((len(text_int), seq_len), dtype = int)\n",
    "    for i, review in enumerate(text_int):\n",
    "        if len(review) <= seq_len:\n",
    "            zeros = list(np.zeros(seq_len - len(review)))\n",
    "            new = zeros + review\n",
    "        else:\n",
    "            new = review[: seq_len]\n",
    "        features[i, :] = np.array(new)\n",
    "\n",
    "    return sorted_words, features"
   ]
  },
  {
   "cell_type": "code",
   "execution_count": 35,
   "id": "265e5b2a",
   "metadata": {},
   "outputs": [],
   "source": [
    "vocabulary, tokenized_column = Tokenize(df[\"text_clean\"], max_len)"
   ]
  },
  {
   "cell_type": "code",
   "execution_count": 36,
   "id": "f6bce171",
   "metadata": {},
   "outputs": [
    {
     "data": {
      "text/plain": [
       "'im come borderland murder'"
      ]
     },
     "execution_count": 36,
     "metadata": {},
     "output_type": "execute_result"
    }
   ],
   "source": [
    "df[\"text_clean\"].iloc[1]"
   ]
  },
  {
   "cell_type": "code",
   "execution_count": 37,
   "id": "57e3a4a8",
   "metadata": {},
   "outputs": [],
   "source": [
    "keys = []\n",
    "values = []\n",
    "for key, value in vocabulary[:20]:\n",
    "    keys.append(key)\n",
    "    values.append(value)"
   ]
  },
  {
   "cell_type": "code",
   "execution_count": 38,
   "id": "4a3f6350",
   "metadata": {},
   "outputs": [],
   "source": [
    "Word2vec_train_data = list(map(lambda x: x.split(), X))"
   ]
  },
  {
   "cell_type": "markdown",
   "id": "1e5a32e6",
   "metadata": {},
   "source": [
    "## 7 VOCAB AND EMBEDDING_DIM"
   ]
  },
  {
   "cell_type": "code",
   "execution_count": 39,
   "id": "f5eb2fe9",
   "metadata": {},
   "outputs": [],
   "source": [
    "EMBEDDING_DIM = 200"
   ]
  },
  {
   "cell_type": "code",
   "execution_count": 40,
   "id": "1fdb29f4",
   "metadata": {},
   "outputs": [
    {
     "name": "stdout",
     "output_type": "stream",
     "text": [
      "Vocabulary size: 26809\n"
     ]
    }
   ],
   "source": [
    "print(f\"Vocabulary size: {len(vocabulary) + 1}\")"
   ]
  },
  {
   "cell_type": "code",
   "execution_count": 41,
   "id": "3efb0817",
   "metadata": {},
   "outputs": [],
   "source": [
    "VOCAB_SIZE = len(vocabulary) + 1 #+1 for the padding"
   ]
  },
  {
   "cell_type": "markdown",
   "id": "6e46fc80",
   "metadata": {},
   "source": [
    "## 8 FIRST TYPE OF EMBEDDING METHOD USING WORD2VEC MODEL"
   ]
  },
  {
   "cell_type": "markdown",
   "id": "038ad21f",
   "metadata": {},
   "source": [
    "**WE WON'T USE THE BELOW WORD2VEC MODEL AS WE ARE GOING TO USE A CLASS TO DEFINE THE EMBEDDING AND USE PYTORCH METHOD FOR EMBEDDING.**"
   ]
  },
  {
   "cell_type": "code",
   "execution_count": 42,
   "id": "7ba4555d",
   "metadata": {},
   "outputs": [],
   "source": [
    "word2vec_model = Word2Vec(Word2vec_train_data, vector_size=EMBEDDING_DIM)"
   ]
  },
  {
   "cell_type": "code",
   "execution_count": 43,
   "id": "b9dc6d37",
   "metadata": {},
   "outputs": [
    {
     "name": "stdout",
     "output_type": "stream",
     "text": [
      "Embedding Matrix Shape: (26809, 200)\n"
     ]
    }
   ],
   "source": [
    "#define empty embedding matrix\n",
    "embedding_matrix = np.zeros((VOCAB_SIZE, EMBEDDING_DIM))\n",
    "    \n",
    "#fill the embedding matrix with the pre trained values from word2vec\n",
    "#    corresponding to word (string), token (number associated to the word)\n",
    "for word, token in vocabulary:\n",
    "    if word2vec_model.wv.__contains__(word):\n",
    "        embedding_matrix[token] = word2vec_model.wv.__getitem__(word)\n",
    "\n",
    "print(\"Embedding Matrix Shape:\", embedding_matrix.shape)"
   ]
  },
  {
   "cell_type": "code",
   "execution_count": 44,
   "id": "ef9f7b6f",
   "metadata": {},
   "outputs": [
    {
     "data": {
      "text/plain": [
       "0.0"
      ]
     },
     "execution_count": 44,
     "metadata": {},
     "output_type": "execute_result"
    }
   ],
   "source": [
    "embedding_matrix[0][1]"
   ]
  },
  {
   "cell_type": "markdown",
   "id": "abb16e66",
   "metadata": {},
   "source": [
    "## 9 TRANSFORMER ENCODING STEPS"
   ]
  },
  {
   "cell_type": "markdown",
   "id": "249d27f4",
   "metadata": {},
   "source": [
    "### 9.0 TRANSFORMER ENCODER - IMPLEMENTED IN THIS NOTEBOOK"
   ]
  },
  {
   "cell_type": "markdown",
   "id": "48d5ba36",
   "metadata": {},
   "source": [
    "In 2017, Vaswani et al. published a paper titled “Attention Is All You Need” for the NeurIPS conference. They introduced the original transformer architecture for machine translation, performing better and faster than RNN encoder-decoder models, which were mainstream.\n",
    "\n",
    "The transformer architecture is the basis for recent well-known models like BERT and GPT-3. Researchers have already applied the transformer architecture in computer vision and reinforcement learning. So, understanding the transformer architecture is crucial if you want to know where machine learning is making headway.\n",
    "\n",
    "However, the transformer architecture may look complicated to those without much background.\n",
    "\n",
    "![Image](https://i.stack.imgur.com/eAKQu.png)"
   ]
  },
  {
   "cell_type": "markdown",
   "id": "bf98acc2",
   "metadata": {},
   "source": [
    "![Image](https://camo.githubusercontent.com/4e0770801220d426e392319dff4359ec34356f9d004ed31b406c29cd0f2ff80e/68747470733a2f2f692e6962622e636f2f596852367757662f656e636f6465722e706e67)"
   ]
  },
  {
   "cell_type": "markdown",
   "id": "979cfef1",
   "metadata": {},
   "source": [
    "The inputs to the Transformer Encoder will the Twitter Data which is preprocessed.<br>\n",
    "**Language: English**<br>"
   ]
  },
  {
   "cell_type": "markdown",
   "id": "66dd43ca",
   "metadata": {},
   "source": [
    "In effect, there are four processes we need to understand to implement this model:\n",
    "\n",
    "* Embedding the inputs\n",
    "* The Positional Encodings\n",
    "* The Multi-Head Attention layer\n",
    "* The Feed-Forward layer\n",
    "\n",
    "![Image](https://camo.githubusercontent.com/4e0770801220d426e392319dff4359ec34356f9d004ed31b406c29cd0f2ff80e/68747470733a2f2f692e6962622e636f2f596852367757662f656e636f6465722e706e67)"
   ]
  },
  {
   "cell_type": "markdown",
   "id": "89cffed6",
   "metadata": {},
   "source": [
    "### 9.1 FIRST STEP - EMBEDDING THE INPUTS"
   ]
  },
  {
   "cell_type": "code",
   "execution_count": 45,
   "id": "70425717",
   "metadata": {},
   "outputs": [],
   "source": [
    "# Embedding (Input Embedding Step in Transformer Encoder)\n",
    "class Embedder(nn.Module):\n",
    "    def __init__(self, vocab_size, d_model):\n",
    "        super().__init__()\n",
    "        self.embed = nn.Embedding(vocab_size, d_model)\n",
    "    def forward(self, x):\n",
    "        return self.embed(x)"
   ]
  },
  {
   "cell_type": "markdown",
   "id": "a8de19a3",
   "metadata": {},
   "source": [
    "#### 9.1.1 USING THE CLASS FOR EMBEDDING THE TOKENIZED COLUMNS"
   ]
  },
  {
   "cell_type": "code",
   "execution_count": 46,
   "id": "0bfd7f62",
   "metadata": {},
   "outputs": [],
   "source": [
    "em_tensor = torch.from_numpy(tokenized_column[20])"
   ]
  },
  {
   "cell_type": "code",
   "execution_count": 47,
   "id": "daa9ebfa",
   "metadata": {},
   "outputs": [],
   "source": [
    "sam_emb = Embedder(VOCAB_SIZE, EMBEDDING_DIM)"
   ]
  },
  {
   "cell_type": "code",
   "execution_count": 48,
   "id": "2e638172",
   "metadata": {},
   "outputs": [],
   "source": [
    "emb_out = []\n",
    "for i in tokenized_column:\n",
    "    em_tensor = torch.from_numpy(i)\n",
    "    emb_out.append(sam_emb.forward(em_tensor))"
   ]
  },
  {
   "cell_type": "markdown",
   "id": "8004cb0a",
   "metadata": {},
   "source": [
    "### 9.2 SECOND STEP - POSITIONAL ENCODINGS"
   ]
  },
  {
   "cell_type": "code",
   "execution_count": 49,
   "id": "1f8c7813",
   "metadata": {},
   "outputs": [],
   "source": [
    "class PositionEmbeddings(nn.Module):\n",
    "    def __init__(self, VOCAB_SIZE, EMBEDDING_DIM=200, HIDDEN_SIZE=200, MAX_POSITION_EMBEDDINGS=512):\n",
    "        super().__init__()\n",
    "        self.token_embeddings = nn.Embedding(VOCAB_SIZE, HIDDEN_SIZE)\n",
    "        self.position_embeddings = nn.Embedding(MAX_POSITION_EMBEDDINGS, HIDDEN_SIZE)\n",
    "        self.layer_norm = nn.LayerNorm(HIDDEN_SIZE, eps=1e-12)\n",
    "        \n",
    "    def forward(self, INPUT_IDS):\n",
    "        seq_length = INPUT_IDS.size(1)\n",
    "        position_ids = torch.arange(seq_length, dtype=torch.long).unsqueeze(0)\n",
    "        token_embeddings = self.token_embeddings(INPUT_IDS)\n",
    "        position_embeddings = self.position_embeddings(position_ids)\n",
    "        embeddings = token_embeddings + position_embeddings\n",
    "        embeddings = self.layer_norm(embeddings)\n",
    "        return embeddings"
   ]
  },
  {
   "cell_type": "markdown",
   "id": "98c1c133",
   "metadata": {},
   "source": [
    "### 9.3 THIRD STEP - MULTI HEAD ATTENTION LAYER"
   ]
  },
  {
   "cell_type": "code",
   "execution_count": 50,
   "id": "39d09970",
   "metadata": {},
   "outputs": [],
   "source": [
    "# Scaled Dot Product Attention\n",
    "from math import sqrt\n",
    "def scaled_dot_product_attention(query, key, value):\n",
    "    dim_k = query.size(-1)\n",
    "    attention_scores = torch.bmm(query, key.transpose(1,2)/sqrt(dim_k))\n",
    "    weights = F.softmax(attention_scores, dim=-1)\n",
    "    return torch.bmm(weights, value)"
   ]
  },
  {
   "cell_type": "code",
   "execution_count": 51,
   "id": "db531b48",
   "metadata": {},
   "outputs": [],
   "source": [
    "# Attention Head\n",
    "class AttentionHead(nn.Module):\n",
    "    def __init__(self, embedded_dim, head_dim):\n",
    "        super().__init__()\n",
    "        self.query = nn.Linear(embedded_dim, head_dim)\n",
    "        self.key = nn.Linear(embedded_dim, head_dim)\n",
    "        self.value = nn.Linear(embedded_dim, head_dim)\n",
    "        \n",
    "    def forward(self, hidden_state):\n",
    "        attention_outputs = scaled_dot_product_attention(self.query(hidden_state),\n",
    "                                                         self.key(hidden_state),\n",
    "                                                         self.value(hidden_state))\n",
    "        return attention_outputs"
   ]
  },
  {
   "cell_type": "code",
   "execution_count": 52,
   "id": "c06e9440",
   "metadata": {},
   "outputs": [],
   "source": [
    "# Multihead Attention\n",
    "class MultiHeadAttention(nn.Module):\n",
    "    def __init__(self, EMBEDDING_DIM):\n",
    "        super().__init__()\n",
    "        embedded_dim = EMBEDDING_DIM\n",
    "        num_heads = 10\n",
    "        head_dim = embedded_dim // num_heads\n",
    "        self.heads = nn.ModuleList([AttentionHead(embedded_dim, head_dim) for _ in range(num_heads)])\n",
    "        self.output_linear = nn.Linear(embedded_dim, embedded_dim)\n",
    "        \n",
    "    def forward(self, hidden_state):\n",
    "        output = torch.cat([h(hidden_state) for h in self.heads], dim=-1)\n",
    "        output = self.output_linear(output)\n",
    "        return output"
   ]
  },
  {
   "cell_type": "markdown",
   "id": "efb778b6",
   "metadata": {},
   "source": [
    "### 9.4 FOURTH STEP - FEEDFORWARD LAYER"
   ]
  },
  {
   "cell_type": "code",
   "execution_count": 53,
   "id": "85bea25b",
   "metadata": {},
   "outputs": [],
   "source": [
    "INTERMEDIATE_SIZE = 3072\n",
    "HIDDEN_DROPOUT_PROB = 0.1\n",
    "HIDDEN_SIZE = 200"
   ]
  },
  {
   "cell_type": "code",
   "execution_count": 54,
   "id": "bb3a632a",
   "metadata": {},
   "outputs": [],
   "source": [
    "class FeedForward(nn.Module):\n",
    "    def __init__(self, INTERMEDIATE_SIZE=3072, HIDDEN_DROPOUT_PROB=0.1, HIDDEN_SIZE=200):\n",
    "        super().__init__()\n",
    "        self.linear_1 = nn.Linear(HIDDEN_SIZE, INTERMEDIATE_SIZE)\n",
    "        self.linear_2 = nn.Linear(INTERMEDIATE_SIZE, HIDDEN_SIZE)\n",
    "        self.gelu = nn.GELU()\n",
    "        self.dropout = nn.Dropout(HIDDEN_DROPOUT_PROB)\n",
    "        \n",
    "    def forward(self, x):\n",
    "        x = self.linear_1(x)\n",
    "        x = self.gelu(x)\n",
    "        x = self.linear_2(x)\n",
    "        x = self.dropout(x)\n",
    "        return x"
   ]
  },
  {
   "cell_type": "markdown",
   "id": "c1674ca2",
   "metadata": {},
   "source": [
    "### 9.5 FIFTH STEP - ENCODER LAYER"
   ]
  },
  {
   "cell_type": "code",
   "execution_count": 55,
   "id": "b2b01ef3",
   "metadata": {},
   "outputs": [],
   "source": [
    "class EncoderLayer(nn.Module):\n",
    "    def __init__(self, HIDDEN_SIZE=200):\n",
    "        super().__init__()\n",
    "        self.prelayer_norm_1 = nn.LayerNorm(HIDDEN_SIZE)\n",
    "        self.prelayer_norm_2 = nn.LayerNorm(HIDDEN_SIZE)\n",
    "        self.attention = MultiHeadAttention(200)\n",
    "        self.feed_forward = FeedForward(3072, 0.1, 200)\n",
    "        \n",
    "    def forward(self, x):\n",
    "        hidden_state = self.prelayer_norm_1(x)\n",
    "        x = x + self.attention(hidden_state)\n",
    "        x = x + self.feed_forward(self.prelayer_norm_2(x))\n",
    "        return x\n"
   ]
  },
  {
   "cell_type": "markdown",
   "id": "1dadc0a5",
   "metadata": {},
   "source": [
    "### 9.6 SIXTH STEP - ENCODER TRANSFORMER"
   ]
  },
  {
   "cell_type": "code",
   "execution_count": 56,
   "id": "f2a43b53",
   "metadata": {},
   "outputs": [],
   "source": [
    "class EncoderTransformer(nn.Module):\n",
    "    def __init__(self, VOCAB_SIZE, NUM_HIDDEN_LAYERS=12):\n",
    "        super().__init__()\n",
    "        self.embeddings = PositionEmbeddings(VOCAB_SIZE)\n",
    "        self.layers = nn.ModuleList([EncoderLayer() for _ in range (NUM_HIDDEN_LAYERS)])\n",
    "        \n",
    "    def forward(self, x):\n",
    "        x = self.embeddings(x)\n",
    "        for layer in self.layers:\n",
    "            x = layer(x)\n",
    "        return x"
   ]
  },
  {
   "cell_type": "markdown",
   "id": "4c389a41",
   "metadata": {},
   "source": [
    "## 10 CREATING METHOD AND GETTING OUTPUT FROM TRANSFORMER ENCODER"
   ]
  },
  {
   "cell_type": "code",
   "execution_count": 57,
   "id": "85a01770",
   "metadata": {},
   "outputs": [],
   "source": [
    "ET_SAMP_01 = EncoderTransformer(VOCAB_SIZE)"
   ]
  },
  {
   "cell_type": "code",
   "execution_count": 58,
   "id": "9854b29a",
   "metadata": {},
   "outputs": [],
   "source": [
    "value = ET_SAMP_01.forward(torch.from_numpy(tokenized_column[0][None, :]))"
   ]
  },
  {
   "cell_type": "code",
   "execution_count": 59,
   "id": "0a00be21",
   "metadata": {},
   "outputs": [
    {
     "data": {
      "text/plain": [
       "torch.Size([1, 52, 200])"
      ]
     },
     "execution_count": 59,
     "metadata": {},
     "output_type": "execute_result"
    }
   ],
   "source": [
    "value.shape"
   ]
  },
  {
   "cell_type": "code",
   "execution_count": 60,
   "id": "1940a301",
   "metadata": {},
   "outputs": [
    {
     "data": {
      "text/plain": [
       "tensor([[[-2.5143,  1.6291, -0.5693,  ...,  1.6742, -0.4742,  3.0619],\n",
       "         [-3.8500,  0.9295,  0.4438,  ...,  1.2660,  1.4417,  1.9652],\n",
       "         [-3.6027, -0.7894, -0.1591,  ...,  0.3251, -0.4083,  3.6763],\n",
       "         ...,\n",
       "         [-1.0379,  0.1341,  1.6007,  ..., -0.2671,  0.1396,  2.7739],\n",
       "         [-1.1251, -0.3282,  1.5985,  ..., -0.9402,  0.6344,  2.3652],\n",
       "         [-0.4099, -2.0448,  1.5711,  ...,  0.2903, -3.1228,  2.1360]]],\n",
       "       grad_fn=<AddBackward0>)"
      ]
     },
     "execution_count": 60,
     "metadata": {},
     "output_type": "execute_result"
    }
   ],
   "source": [
    "value"
   ]
  },
  {
   "cell_type": "code",
   "execution_count": null,
   "id": "16dc6b15",
   "metadata": {},
   "outputs": [],
   "source": []
  },
  {
   "cell_type": "code",
   "execution_count": null,
   "id": "f2f5b404",
   "metadata": {},
   "outputs": [],
   "source": []
  }
 ],
 "metadata": {
  "kernelspec": {
   "display_name": "Python 3 (ipykernel)",
   "language": "python",
   "name": "python3"
  },
  "language_info": {
   "codemirror_mode": {
    "name": "ipython",
    "version": 3
   },
   "file_extension": ".py",
   "mimetype": "text/x-python",
   "name": "python",
   "nbconvert_exporter": "python",
   "pygments_lexer": "ipython3",
   "version": "3.9.13"
  }
 },
 "nbformat": 4,
 "nbformat_minor": 5
}
